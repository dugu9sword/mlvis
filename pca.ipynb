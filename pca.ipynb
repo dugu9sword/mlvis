{
 "cells": [
  {
   "cell_type": "code",
   "execution_count": 144,
   "metadata": {},
   "outputs": [],
   "source": [
    "import genops\n",
    "import numpy as np\n",
    "from sklearn.decomposition import PCA, KernelPCA\n",
    "from sklearn.linear_model import LinearRegression\n",
    "from matplotlib import pyplot as plt"
   ]
  },
  {
   "cell_type": "markdown",
   "metadata": {},
   "source": [
    "## PCA vs Regression\n",
    "\n",
    "三者其实是 $f(x,y)$、$f(y|x)$、$f(x|y)$ 的区别：误差函数是垂直于直线、垂直于 x 轴、还是垂直于 y 轴。"
   ]
  },
  {
   "cell_type": "code",
   "execution_count": 123,
   "metadata": {},
   "outputs": [
    {
     "data": {
      "text/plain": [
       "<matplotlib.legend.Legend at 0x7fb33b4099b0>"
      ]
     },
     "execution_count": 123,
     "metadata": {},
     "output_type": "execute_result"
    },
    {
     "data": {
      "image/png": "[encoded data removed]",
      "text/plain": [
       "<Figure size 432x288 with 1 Axes>"
      ]
     },
     "metadata": {
      "needs_background": "light"
     },
     "output_type": "display_data"
    }
   ],
   "source": [
    "x = genops.arange(100) / 10\n",
    "eps = genops.rand(100) * 10\n",
    "y = 1 * x + eps\n",
    "\n",
    "pca = PCA(1)\n",
    "xy_pca = pca.fit_transform(np.stack([x, y]).T)\n",
    "xy_pca = pca.inverse_transform(xy_pca)\n",
    "\n",
    "lr = LinearRegression()\n",
    "lr.fit(x.reshape(-1, 1), y)\n",
    "y_lr_on_x = lr.predict(x.reshape(-1, 1))\n",
    "\n",
    "lr = LinearRegression()\n",
    "lr.fit(y.reshape(-1, 1), x)\n",
    "x_lr_on_y = lr.predict(y.reshape(-1, 1))\n",
    "\n",
    "plt.scatter(x, y)\n",
    "plt.plot(xy_pca[:, 0], xy_pca[:, 1])\n",
    "plt.plot(x, y_lr_on_x)\n",
    "plt.plot(x_lr_on_y, y)\n",
    "plt.legend(['pca', 'y|x', 'x|y'])"
   ]
  },
  {
   "cell_type": "markdown",
   "metadata": {},
   "source": [
    "## PCA vs Kernel PCA\n",
    "\n",
    "尝试更改训练集的大小（10，100，1000，10000），会发现：\n",
    "\n",
    "- 训练集无论大小，PCA 都能重构数据。\n",
    "- 训练集小的时候，Kernel PCA 无法重构数据，训练集大的时候可以。\n",
    "\n",
    "这是因为 Kernel PCA 的数据重构是一个与 PCA 本身无关的问题（Pre-image 问题）。"
   ]
  },
  {
   "cell_type": "code",
   "execution_count": 154,
   "metadata": {},
   "outputs": [
    {
     "name": "stdout",
     "output_type": "stream",
     "text": [
      "Original Data\n",
      "tensor([[0.8281, 0.5495, 0.4967],\n",
      "        [0.9847, 0.4739, 0.1184],\n",
      "        [0.5065, 0.2784, 0.1347],\n",
      "        [0.0365, 0.7233, 0.4585],\n",
      "        [0.9614, 0.9734, 0.1849]])\n",
      "PCA\n",
      "[[0.82809073 0.54949641 0.49667591]\n",
      " [0.98468137 0.47391587 0.11837012]\n",
      " [0.50648993 0.27837795 0.13472074]\n",
      " [0.03649676 0.72328931 0.45851731]\n",
      " [0.96135783 0.97342855 0.18488395]]\n",
      "KPCA\n",
      "[[0.8393512  0.55684817 0.49830708]\n",
      " [0.95262766 0.4703348  0.12767673]\n",
      " [0.50947785 0.25838447 0.12023804]\n",
      " [0.0395561  0.7372758  0.45382008]\n",
      " [0.89463407 0.9036159  0.21631905]]\n"
     ]
    }
   ],
   "source": [
    "pca = PCA(n_components=3, copy=True)\n",
    "kpca = KernelPCA(\n",
    "    n_components=3,\n",
    "    kernel='rbf',\n",
    "    gamma=1.0, # default 1/n_features\n",
    "    kernel_params=None,\n",
    "    fit_inverse_transform=True,\n",
    "    eigen_solver='auto',\n",
    "    tol=0,\n",
    "    max_iter=None\n",
    ")\n",
    "train_set = genops.rand([10000,3])\n",
    "k_transformed = kpca.fit_transform(train_set)\n",
    "k_orig =  kpca.inverse_transform(k_transformed)\n",
    "p_transformed = pca.fit_transform(train_set)\n",
    "p_orig =  pca.inverse_transform(p_transformed)\n",
    "print(\"Original Data\")\n",
    "print(train_set[:5])\n",
    "print(\"PCA\")\n",
    "print(p_orig[:5])\n",
    "print(\"KPCA\")\n",
    "print(k_orig[:5])"
   ]
  }
 ],
 "metadata": {
  "interpreter": {
   "hash": "43268c4202ce184b829f8f7524cf5790060b121f2f51ae68e5d499408bae96f5"
  },
  "kernelspec": {
   "display_name": "Python 3.7.0 ('mlvis')",
   "language": "python",
   "name": "python3"
  },
  "language_info": {
   "codemirror_mode": {
    "name": "ipython",
    "version": 3
   },
   "file_extension": ".py",
   "mimetype": "text/x-python",
   "name": "python",
   "nbconvert_exporter": "python",
   "pygments_lexer": "ipython3",
   "version": "3.7.0"
  },
  "orig_nbformat": 4
 },
 "nbformat": 4,
 "nbformat_minor": 2
}
