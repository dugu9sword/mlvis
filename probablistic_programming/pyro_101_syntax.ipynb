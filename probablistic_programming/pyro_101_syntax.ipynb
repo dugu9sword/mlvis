{
 "cells": [
  {
   "cell_type": "code",
   "execution_count": 1,
   "metadata": {},
   "outputs": [],
   "source": [
    "from contextlib import AbstractContextManager\n",
    "import rich\n",
    "import torch\n",
    "import numpy as np\n",
    "import pyro\n",
    "from pyro import distributions as dist\n",
    "from pyro import poutine\n",
    "from pyro.infer import Trace_ELBO, TraceEnum_ELBO, SVI\n",
    "from pyro.infer import config_enumerate, infer_discrete\n",
    "from pyro.distributions import constraints\n",
    "from pyro.ops.indexing import Vindex\n",
    "from pyro.infer.autoguide import AutoNormal, AutoDelta, AutoGuide\n",
    "from matplotlib import pyplot as plt\n",
    "from IPython import display\n",
    "%matplotlib inline\n",
    "\n",
    "\n",
    "class catch(AbstractContextManager):\n",
    "    def __init__(self, info = None):\n",
    "        self.info = info\n",
    "\n",
    "    def __enter__(self):\n",
    "        if self.info is not None:\n",
    "            print(f\"=== {self.info} ===\")\n",
    "\n",
    "    def __exit__(self, exctype, excinst, exctb):\n",
    "        if exctype is not None:\n",
    "            print(f\"Error: {exctype}\")\n",
    "        return True\n",
    "\n",
    "\n",
    "def render_model_plus(model, model_args=None):\n",
    "    display.display(\n",
    "        pyro.render_model(model, model_args, render_params=True, render_distributions=True)\n",
    "    )\n"
   ]
  },
  {
   "cell_type": "markdown",
   "metadata": {},
   "source": [
    "## basics"
   ]
  },
  {
   "cell_type": "code",
   "execution_count": null,
   "metadata": {},
   "outputs": [],
   "source": [
    "\"\"\"\n",
    "Some differences between `param` and `sample`:\n",
    "- different shapes:\n",
    "    - for Normal, sample(param(shape=[5, 2]))=[5, 2]\n",
    "    - for Categorical, sample(param(shape=[5, 2]))=[5]\n",
    "- static vs dynamic: \n",
    "    - `param` will be reused if not `clear_param_store`\n",
    "\"\"\"\n",
    "\n",
    "print(\"=== param ===\")\n",
    "pyro.clear_param_store()\n",
    "print(pyro.param(\"p\", torch.randn(3, 3).exp(), constraint=constraints.simplex).shape)\n",
    "print(pyro.param(\"p\", torch.randn(5, 4, 3, 2).exp(), constraint=constraints.simplex).shape)\n",
    "pyro.clear_param_store()\n",
    "print(pyro.param(\"p\", torch.randn(5, 4, 3, 2).exp(), constraint=constraints.simplex).shape)\n",
    "\n",
    "print(\"=== sample ===\")\n",
    "print(pyro.sample(\"p\", dist.Normal(0., 1.).expand([5, 2])).shape)\n",
    "print(pyro.sample(\"p\", dist.Normal(0., 1.).expand([3, 2])).shape)"
   ]
  },
  {
   "cell_type": "code",
   "execution_count": null,
   "metadata": {},
   "outputs": [],
   "source": [
    "\"\"\"\n",
    "    AutoNormal creates a Normal(loc, scale) for each param\n",
    "\"\"\"\n",
    "pyro.clear_param_store()\n",
    "\n",
    "def model():\n",
    "    p = pyro.param(\"loc\", torch.tensor(0.0))\n",
    "    x = pyro.sample(\"x\", dist.Normal(p, 1))\n",
    "    y = pyro.sample(\"y\", dist.Normal(x, 1))\n",
    "\n",
    "render_model_plus(model)\n",
    "render_model_plus(AutoNormal(model))\n",
    "render_model_plus(AutoDelta(model))"
   ]
  },
  {
   "cell_type": "code",
   "execution_count": null,
   "metadata": {},
   "outputs": [],
   "source": [
    "\"\"\"\n",
    "    Be careful about the shape of a distribution!\n",
    "\n",
    "    Categorical(shape=[5, 2])'s batch_shape is [5]\n",
    "    Normal(shape=[5, 2])'s batch_shape is [5, 2]\n",
    "\"\"\"\n",
    "\n",
    "def print_shape(some_dist: dist.Distribution):\n",
    "    print(\"Shape: \", some_dist.batch_shape, some_dist.event_shape)\n",
    "\n",
    "print(\"=== Normal ===\")\n",
    "print_shape(dist.Normal(0., 10.))\n",
    "print_shape(dist.Normal(0., 10.).expand([5, 2]))\n",
    "print_shape(dist.Normal(0., 10.).expand([5, 2]).to_event(1))\n",
    "\n",
    "def cat(*shape):\n",
    "    return dist.Categorical(torch.randn(*shape).exp())\n",
    "\n",
    "print(\"=== Categorical ===\")\n",
    "print_shape(cat(5))\n",
    "print_shape(cat(2).expand([5]))\n",
    "print_shape(cat(5, 2))"
   ]
  },
  {
   "cell_type": "code",
   "execution_count": null,
   "metadata": {},
   "outputs": [],
   "source": [
    "\"\"\"\n",
    "    Distribution contains `batch_shape` and `event_shape`, represented by [batch_shape | event_shape]\n",
    "    \n",
    "    The constraint must be satisfied:\n",
    "        plate's size = Distribution's batch_shape[dim]\n",
    "\"\"\"\n",
    "with pyro.plate('k', size=2, dim=None): \n",
    "    normal = dist.Normal(0., 10.)\n",
    "    with catch(\"无法给 [3, 4 | ] 设置 size=2 的维度\"):\n",
    "        x = pyro.sample('x', normal.expand([3, 4]))\n",
    "        print(x.shape) \n",
    "    with catch(\"可以给 [ | 3, 4] 设置 size=2 的维度，偷偷做了 broadcast\"):\n",
    "        x = pyro.sample('x', normal.expand([3, 4]).to_event(2))\n",
    "        print(x.shape)\n",
    "    with catch(\"无法给 [2, 4 | ] 设置 size=2 的维度\"):\n",
    "        x = pyro.sample('x', normal.expand([2, 4]))\n",
    "        print(x.shape)\n",
    "    with catch(\"可以给 [2 | 4] 设置 size=2 的维度\"):\n",
    "        x = pyro.sample('x', normal.expand([2, 4]).to_event(1))\n",
    "        print(x.shape)\n",
    "    "
   ]
  },
  {
   "cell_type": "markdown",
   "metadata": {},
   "source": [
    "## poutines"
   ]
  },
  {
   "cell_type": "code",
   "execution_count": null,
   "metadata": {},
   "outputs": [],
   "source": [
    "\"\"\"\n",
    "    trace & replay\n",
    "\"\"\"\n",
    "def model_1(x):\n",
    "    s = pyro.param(\"s\", torch.tensor(0.5))\n",
    "    z = pyro.sample(\"z\", dist.Normal(x, s))\n",
    "    print(f\"[model_1] draw z = {z}\")\n",
    "\n",
    "def model_2(x):\n",
    "    z = pyro.sample(\"z\", dist.Normal(x, 4))\n",
    "    print(f\"[model_2] draw z = {z}\")\n",
    "    z2 = pyro.sample(\"z2\", dist.Normal(x, 4))\n",
    "    print(f\"[model_2] draw z2 = {z2}\")\n",
    "\n",
    "print(\"=== Vanilla behaviour ===\")\n",
    "print(\"model_1 and model_2 should sample very different z:\")\n",
    "model_1(1.0)\n",
    "model_2(1000.0)\n",
    "\n",
    "print(\"=== Traced behaviour ===\")\n",
    "print(\"If we replay model_1's trace in model_2, `sample` will be deterministic:\")\n",
    "trace_model_1 = pyro.poutine.trace(model_1)\n",
    "model_1_trace = trace_model_1.get_trace(1.0)\n",
    "replayed_model_2 = pyro.poutine.replay(model_2, trace=model_1_trace)\n",
    "replayed_model_2(1000.0)\n"
   ]
  },
  {
   "cell_type": "code",
   "execution_count": null,
   "metadata": {},
   "outputs": [],
   "source": [
    "\"\"\"\n",
    "    block makes some site invisible\n",
    "    condition = sample(obs=~)\n",
    "\"\"\"\n",
    "def model():\n",
    "    a = pyro.sample(\"a\", dist.Normal(0., 1.))\n",
    "    b = pyro.sample(\"b\", dist.Normal(a, 1.))\n",
    "\n",
    "pyro.render_model(poutine.block(model, expose=['b']))\n",
    "pyro.render_model(poutine.condition(model, data={\"b\": torch.tensor(1.0)}))"
   ]
  },
  {
   "cell_type": "code",
   "execution_count": null,
   "metadata": {},
   "outputs": [],
   "source": [
    "\"\"\"\n",
    "    We construct the graph in model(),\n",
    "        but we can modify it with `poutine.condition` to make some variables visible\n",
    "        concretely, the process is:\n",
    "            - sample x from N(0, 1)\n",
    "            - set y to be 1 (but we view it as a sample from N(x, 1))\n",
    "            - sample z from N(x, y)\n",
    "        we can compute all log-probs (by a sampling path, not marginalized)!\n",
    "\"\"\"\n",
    "def model():\n",
    "    x = pyro.sample(\"x\", dist.Normal(0, 1))\n",
    "    y = pyro.sample(\"y\", dist.Normal(x, 1))\n",
    "    z = pyro.sample(\"z\", dist.Normal(x, y))\n",
    "    print(\"log-prob-sum should be:\",\n",
    "          dist.Normal(0, 1).log_prob(x) +  #\n",
    "          dist.Normal(x, 1).log_prob(y) +  #\n",
    "          dist.Normal(x, y).log_prob(z))\n",
    "\n",
    "\n",
    "obs_y_model = poutine.condition(model, data={\"y\": torch.tensor(1.0)})\n",
    "trace = poutine.trace(obs_y_model).get_trace()\n",
    "print(\"traced log-prob-sum:\", trace.log_prob_sum())"
   ]
  },
  {
   "cell_type": "markdown",
   "metadata": {},
   "source": [
    "## training\n",
    "\n"
   ]
  },
  {
   "cell_type": "code",
   "execution_count": 23,
   "metadata": {},
   "outputs": [
    {
     "name": "stdout",
     "output_type": "stream",
     "text": [
      "Using custom_guide\n",
      "Step 0\n",
      "tensor([ 0,  1,  2, 11, 12, 13, 14, 15])\n",
      "Step 1\n",
      "tensor([ 0,  1,  2, 11, 12, 13, 14, 15])\n",
      "Step 2\n",
      "tensor([ 0,  1,  2, 11, 12, 13, 14, 15])\n",
      "Using auto_guide\n",
      "Step 0\n",
      "tensor([ 0,  1,  2, 11, 12, 13, 14, 15])\n",
      "tensor([ 0,  1,  2, 11, 12, 13, 14, 15])\n",
      "Step 1\n",
      "tensor([ 0,  1,  2, 11, 12, 13, 14, 15])\n",
      "Step 2\n",
      "tensor([ 0,  1,  2, 11, 12, 13, 14, 15])\n"
     ]
    }
   ],
   "source": [
    "\"\"\"\n",
    "    If we use AutoGuide, pyro will forward the model to know what the graph looks like,\n",
    "    such that it can build a guide graph.\n",
    "\n",
    "    So the model run TWICE in the first call to `svi.step()`\n",
    "\"\"\"\n",
    "def model(data):\n",
    "    print(data)\n",
    "    loc = pyro.sample(\"weights\", dist.Normal(0.0, 1.0))\n",
    "    scale = pyro.sample(\"scale\", dist.LogNormal(0.0, 10.0))\n",
    "    with pyro.plate(\"data\", len(data)):\n",
    "        obs_dist = dist.Normal(loc, scale)\n",
    "        obs = pyro.sample(\"obs\", obs_dist, obs=data)\n",
    "\n",
    "def custom_guide(data):\n",
    "    loc = pyro.sample(\"weights\", dist.Normal(0.0, 1.0))\n",
    "    scale = pyro.sample(\"scale\", dist.LogNormal(0.0, 10.0))\n",
    "\n",
    "data = torch.tensor([0, 1, 2, 11, 12, 13, 14, 15])\n",
    "pyro.clear_param_store()\n",
    "\n",
    "auto_guide = AutoDelta(model)\n",
    "elbo = Trace_ELBO()\n",
    "opt = pyro.optim.AdamW({\"lr\": 0.1})\n",
    "\n",
    "\n",
    "for name, guide in {\"custom_guide\": custom_guide, \"auto_guide\": auto_guide}.items():\n",
    "    print(f\"Using {name}\")\n",
    "    svi = SVI(model, guide, opt, elbo)\n",
    "\n",
    "    for i in range(3):\n",
    "        print(f\"Step {i}\")\n",
    "        svi.step(data)\n"
   ]
  },
  {
   "cell_type": "markdown",
   "metadata": {},
   "source": [
    "## Enumerate\n",
    "-----"
   ]
  },
  {
   "cell_type": "markdown",
   "metadata": {},
   "source": [
    "### Toy Example"
   ]
  },
  {
   "cell_type": "code",
   "execution_count": 24,
   "metadata": {},
   "outputs": [
    {
     "name": "stdout",
     "output_type": "stream",
     "text": [
      "Step 0\n",
      "torch.Size([8]) torch.Size([8]) torch.Size([8])\n",
      "torch.Size([8]) torch.Size([8]) torch.Size([8])\n",
      "torch.Size([2, 1]) torch.Size([2, 1]) torch.Size([8])\n",
      "Step 1\n",
      "torch.Size([2, 1]) torch.Size([2, 1]) torch.Size([8])\n",
      "Step 2\n",
      "torch.Size([2, 1]) torch.Size([2, 1]) torch.Size([8])\n"
     ]
    }
   ],
   "source": [
    "\"\"\"\n",
    "    enumerate only works for distributions, which are:\n",
    "        - NOT observed\n",
    "        - discrete\n",
    "    \n",
    "    enumerate's effect:\n",
    "        sample: [num_data] -> enumerate: [num_categories, 1] (the last is left for batch)\n",
    "\n",
    "\"\"\"\n",
    "@config_enumerate\n",
    "def model(data):\n",
    "    weights = pyro.sample(\"weights\", dist.Dirichlet(0.5 * torch.ones(2)))\n",
    "    with pyro.plate(\"components\", 2):\n",
    "        loc = pyro.sample(\"loc\", dist.Normal(5, 3))\n",
    "        scale = pyro.sample(\"scale\", dist.LogNormal(0, 3))\n",
    "    # ↑ For continious distribution, the shape is same before/after enumerate.\n",
    "    # print(weights.shape, loc.shape, scale.shape)\n",
    "    with pyro.plate(\"data\", len(data)):\n",
    "        # ↓ For discrete distribution (Categorical), [8] (w/o enumerate) -> [2, 1] (w/ enumerate)\n",
    "        # The key here is: for each data point, if we sample a component individually\n",
    "        # for each data, we have to sample |data| times. However:\n",
    "        #   - sampling too early prevents us from marginalization\n",
    "        #   - most of the sampling cause redundant computation (|components| << |data|)\n",
    "        assignment = pyro.sample(\"assignment\", dist.Categorical(weights))\n",
    "        obs_dist = dist.Normal(loc[assignment], scale[assignment])\n",
    "        obs = pyro.sample(\"obs\", obs_dist, obs=data)\n",
    "        print(assignment.shape, obs_dist.batch_shape, obs.shape)\n",
    "\n",
    "data = torch.tensor([0, 1, 2, 11, 12, 13, 14, 15])\n",
    "pyro.clear_param_store()\n",
    "\n",
    "guide = AutoDelta(poutine.block(model, hide=['assignment']))\n",
    "elbo = TraceEnum_ELBO(num_particles=1)\n",
    "opt = pyro.optim.AdamW({\"lr\": 0.1})\n",
    "svi = SVI(model, guide, opt, elbo)\n",
    "\n",
    "for i in range(3):\n",
    "    print(f\"Step {i}\")\n",
    "    svi.step(data)"
   ]
  },
  {
   "cell_type": "code",
   "execution_count": 28,
   "metadata": {},
   "outputs": [
    {
     "name": "stdout",
     "output_type": "stream",
     "text": [
      "=== Sampling ===\n",
      "     p.shape = torch.Size([5, 4, 3, 2])\n",
      "     x.shape = torch.Size([])\n",
      "     y.shape = torch.Size([])\n",
      "  p_xy.shape = torch.Size([5, 2])\n",
      "     z.shape = torch.Size([5])\n",
      "=== Enumerated Inference ===\n",
      "     p.shape = torch.Size([5, 4, 3, 2])\n",
      "     x.shape = torch.Size([])\n",
      "     y.shape = torch.Size([])\n",
      "  p_xy.shape = torch.Size([5, 2])\n",
      "     z.shape = torch.Size([5])\n",
      "     p.shape = torch.Size([5, 4, 3, 2])\n",
      "     x.shape = torch.Size([4, 1])\n",
      "     y.shape = torch.Size([3, 1, 1])\n",
      "  p_xy.shape = torch.Size([3, 4, 5, 2])\n",
      "     z.shape = torch.Size([2, 1, 1, 1])\n"
     ]
    },
    {
     "data": {
      "text/plain": [
       "-0.0"
      ]
     },
     "execution_count": 28,
     "metadata": {},
     "output_type": "execute_result"
    }
   ],
   "source": [
    "\"\"\"\n",
    "    What should I comment here?\n",
    "\"\"\"\n",
    "@config_enumerate\n",
    "def model():\n",
    "    p = pyro.param(\"p\", torch.randn(5, 4, 3, 2).exp(), constraint=constraints.simplex)\n",
    "    x = pyro.sample(\"x\", dist.Categorical(torch.ones(4)))\n",
    "    y = pyro.sample(\"y\", dist.Categorical(torch.ones(3)))\n",
    "    with pyro.plate(\"z_plate\", 5):\n",
    "        p_xy = Vindex(p)[..., x, y, :]\n",
    "        z = pyro.sample(\"z\", dist.Categorical(p_xy))\n",
    "    print(f\"     p.shape = {p.shape}\")\n",
    "    print(f\"     x.shape = {x.shape}\")\n",
    "    print(f\"     y.shape = {y.shape}\")\n",
    "    print(f\"  p_xy.shape = {p_xy.shape}\")\n",
    "    print(f\"     z.shape = {z.shape}\")\n",
    "    return x, y, z\n",
    "\n",
    "def guide():\n",
    "    pass\n",
    "\n",
    "pyro.clear_param_store()\n",
    "print(\"=== Sampling ===\")\n",
    "model()\n",
    "print(\"=== Enumerated Inference ===\")\n",
    "elbo = TraceEnum_ELBO()\n",
    "elbo.loss(model, guide)\n"
   ]
  },
  {
   "cell_type": "markdown",
   "metadata": {},
   "source": [
    "### vindex"
   ]
  },
  {
   "cell_type": "code",
   "execution_count": 30,
   "metadata": {},
   "outputs": [
    {
     "name": "stdout",
     "output_type": "stream",
     "text": [
      "=== CASE I: scalar indexing ===\n",
      "torch.Size([2, 5])\n",
      "=== CASE II: vector indexing ===\n",
      "torch.Size([3, 2, 5])\n",
      "tensor([[0., 0., 0., 0., 0.],\n",
      "        [0., 0., 0., 0., 0.]])\n",
      "=== CASE III: vector indexing with broadcasting ===\n",
      "torch.Size([3, 2, 5])\n",
      "tensor([[0., 0., 0., 0., 0.],\n",
      "        [0., 0., 0., 0., 0.]])\n"
     ]
    }
   ],
   "source": [
    "\"\"\"\n",
    "    vanilla indexing\n",
    "\"\"\"\n",
    "\n",
    "x = torch.rand(2, 4, 5, 6)\n",
    "\n",
    "\n",
    "print(\"=== CASE I: scalar indexing ===\")\n",
    "# take the slice of x where \n",
    "#   2nd-dim is 0 and 4th-dim is 0\n",
    "# return a slice whose shape is\n",
    "#   [2, 5]\n",
    "y = x[..., 0, :, 0]\n",
    "print(y.shape)\n",
    "\n",
    "print(\"=== CASE II: vector indexing ===\")\n",
    "# take the slice of x where \n",
    "#   2nd-dim is 0 and 4th-dim is 3\n",
    "#   2nd-dim is 1 and 4th-dim is 1\n",
    "#   2nd-dim is 1 and 4th-dim is 2\n",
    "# return 3 slices whose shape is\n",
    "#   [3, 2, 5]\n",
    "y = x[..., torch.tensor([0, 1, 1]), :, torch.tensor([3, 1, 2])]\n",
    "print(y.shape)\n",
    "print(y[0] - x[:, 0, :, 3])\n",
    "\n",
    "print(\"=== CASE III: vector indexing with broadcasting ===\")\n",
    "# take the slice of x where \n",
    "#   2nd-dim is 0 and 4th-dim is 3\n",
    "#   2nd-dim is 1 and 4th-dim is 3\n",
    "#   2nd-dim is 1 and 4th-dim is 3\n",
    "# return 3 slices whose shape is\n",
    "#   [3, 2, 5]\n",
    "y = x[..., torch.tensor([0, 1, 1]), :, torch.tensor([3])]\n",
    "print(y.shape)\n",
    "print(y[1] - x[:, 1, :, 3])"
   ]
  },
  {
   "cell_type": "code",
   "execution_count": 31,
   "metadata": {},
   "outputs": [
    {
     "name": "stdout",
     "output_type": "stream",
     "text": [
      "=== CASE I: trivial case ===\n",
      "torch.Size([2, 5])\n",
      "tensor([0., 0., 0., 0., 0.])\n",
      "tensor([0., 0., 0., 0., 0.])\n",
      "=== CASE II: broadcasting original tensor ===\n",
      "torch.Size([2, 2, 5])\n",
      "tensor([0., 0., 0., 0., 0.])\n",
      "tensor([0., 0., 0., 0., 0.])\n",
      "tensor([0., 0., 0., 0., 0.])\n",
      "tensor([0., 0., 0., 0., 0.])\n",
      "=== CASE III: broadcasting index tensor\n",
      "torch.Size([7, 2, 5])\n",
      "tensor([0., 0., 0., 0., 0.])\n",
      "tensor([0., 0., 0., 0., 0.])\n",
      "=== CASE III: broadcasting both\n",
      "torch.Size([2, 2, 5])\n",
      "tensor([0., 0., 0., 0., 0.])\n",
      "tensor([0., 0., 0., 0., 0.])\n"
     ]
    }
   ],
   "source": [
    "\"\"\"\n",
    "    v-index (or batch indexing)\n",
    "\n",
    "    KEY: ellipse(...) denote batch dimension!\n",
    "\"\"\"\n",
    "\n",
    "x = torch.rand(2, 4, 5, 6)\n",
    "\n",
    "print(\"=== CASE I: trivial case ===\")\n",
    "# batch_index_select\n",
    "#   x[0]'s shape is [4, 5, 6], index select by [0] and [3]\n",
    "#   x[1]'s shape is [4, 5, 6], index select by [2] and [2]\n",
    "y = Vindex(x)[..., torch.tensor([0, 2]), :, torch.tensor([3, 2])]\n",
    "print(y.shape)\n",
    "print(y[0] - x[0, 0, :, 3])\n",
    "print(y[1] - x[1, 2, :, 2])\n",
    "\n",
    "print(\"=== CASE II: broadcasting original tensor ===\")\n",
    "# shape:\n",
    "#   x  is [2 | 4 5 6]\n",
    "#   i1 is [2 2]\n",
    "#   i2 is [2 2]\n",
    "# broadcast:\n",
    "#   x's shape [_ 2 | 4 5 6 ]-> [2 2 | 4 5 6]\n",
    "# finally:\n",
    "#   y[i, j] = x[i, j, i1[i][j], :, i2[i][j]]\n",
    "y = Vindex(x)[..., torch.tensor([[0, 2], [0, 3]]), :, torch.tensor([[3, 2], [3, 2]])]\n",
    "print(y.shape)\n",
    "print(y[0][0] - x[0, 0, :, 3])\n",
    "print(y[0][1] - x[1, 2, :, 2])\n",
    "print(y[1][0] - x[0, 0, :, 3])\n",
    "print(y[1][1] - x[1, 3, :, 2])\n",
    "\n",
    "\n",
    "print(\"=== CASE III: broadcasting index tensor\")\n",
    "# shape:\n",
    "#   x  is [7 2 | 4 5 6]\n",
    "#   i1 is [2]\n",
    "#   i2 is [2]\n",
    "# broadcast:\n",
    "#   i's shape [_ 2]-> [7 2]\n",
    "# finally:\n",
    "x = torch.rand(7, 2, 4, 5, 6)\n",
    "y = Vindex(x)[..., torch.tensor([0, 2]), :, torch.tensor([3, 2])]\n",
    "print(y.shape)\n",
    "print(y[5][0] - x[5, 0, 0, :, 3])\n",
    "print(y[2][1] - x[2, 1, 2, :, 2])\n",
    "\n",
    "\n",
    "print(\"=== CASE III: broadcasting both\")\n",
    "# shape:\n",
    "#   x  is [2 | 4 5 6]\n",
    "#   i1 is [2 1]\n",
    "#   i2 is [2 1]\n",
    "# broadcast:\n",
    "#   x's shape [2 | 4 5 6] -> [2 2 | 4 5 6]\n",
    "#   i's shape [2 1] -> [2 2]\n",
    "#   NOTE: [2] + [2, 1]? == [2, 2], != [2, 1]\n",
    "# finally:\n",
    "#   - x[<0>, i, 0, :, 3] == y[0, i]\n",
    "x = torch.rand(2, 4, 5, 6)\n",
    "y = Vindex(x)[..., torch.tensor([[0], [2]]), :, torch.tensor([[3], [2]])]\n",
    "print(y.shape)\n",
    "i = 1\n",
    "print(y[0, i] - x[i, 0, :, 3])\n",
    "print(y[1, i] - x[i, 2, :, 2])"
   ]
  },
  {
   "cell_type": "markdown",
   "metadata": {},
   "source": [
    "### Gaussian Mixture Model"
   ]
  },
  {
   "cell_type": "code",
   "execution_count": 29,
   "metadata": {},
   "outputs": [
    {
     "name": "stdout",
     "output_type": "stream",
     "text": [
      "ELBO before: 186.62033081054688\n",
      "ELBO after: 27.53680419921875\n"
     ]
    },
    {
     "data": {
      "text/html": [
       "<pre style=\"white-space:pre;overflow-x:auto;line-height:normal;font-family:Menlo,'DejaVu Sans Mono',consolas,'Courier New',monospace\"><span style=\"font-weight: bold\">{</span>\n",
       "    <span style=\"color: #008000; text-decoration-color: #008000\">'AutoDelta.weights'</span>: <span style=\"color: #800080; text-decoration-color: #800080; font-weight: bold\">tensor</span><span style=\"font-weight: bold\">([</span><span style=\"color: #008080; text-decoration-color: #008080; font-weight: bold\">0.6428</span>, <span style=\"color: #008080; text-decoration-color: #008080; font-weight: bold\">0.3572</span><span style=\"font-weight: bold\">]</span>, <span style=\"color: #808000; text-decoration-color: #808000\">grad_fn</span>=<span style=\"font-weight: bold\">&lt;</span><span style=\"color: #ff00ff; text-decoration-color: #ff00ff; font-weight: bold\">DivBackward0</span><span style=\"font-weight: bold\">&gt;)</span>,\n",
       "    <span style=\"color: #008000; text-decoration-color: #008000\">'AutoDelta.loc'</span>: Parameter containing:\n",
       "<span style=\"color: #800080; text-decoration-color: #800080; font-weight: bold\">tensor</span><span style=\"font-weight: bold\">([</span><span style=\"color: #008080; text-decoration-color: #008080; font-weight: bold\">12.6208</span>,  <span style=\"color: #008080; text-decoration-color: #008080; font-weight: bold\">1.1366</span><span style=\"font-weight: bold\">]</span>, <span style=\"color: #808000; text-decoration-color: #808000\">requires_grad</span>=<span style=\"color: #00ff00; text-decoration-color: #00ff00; font-style: italic\">True</span><span style=\"font-weight: bold\">)</span>\n",
       "<span style=\"font-weight: bold\">}</span>\n",
       "</pre>\n"
      ],
      "text/plain": [
       "\u001b[1m{\u001b[0m\n",
       "    \u001b[32m'AutoDelta.weights'\u001b[0m: \u001b[1;35mtensor\u001b[0m\u001b[1m(\u001b[0m\u001b[1m[\u001b[0m\u001b[1;36m0.6428\u001b[0m, \u001b[1;36m0.3572\u001b[0m\u001b[1m]\u001b[0m, \u001b[33mgrad_fn\u001b[0m=\u001b[1m<\u001b[0m\u001b[1;95mDivBackward0\u001b[0m\u001b[1m>\u001b[0m\u001b[1m)\u001b[0m,\n",
       "    \u001b[32m'AutoDelta.loc'\u001b[0m: Parameter containing:\n",
       "\u001b[1;35mtensor\u001b[0m\u001b[1m(\u001b[0m\u001b[1m[\u001b[0m\u001b[1;36m12.6208\u001b[0m,  \u001b[1;36m1.1366\u001b[0m\u001b[1m]\u001b[0m, \u001b[33mrequires_grad\u001b[0m=\u001b[3;92mTrue\u001b[0m\u001b[1m)\u001b[0m\n",
       "\u001b[1m}\u001b[0m\n"
      ]
     },
     "metadata": {},
     "output_type": "display_data"
    },
    {
     "name": "stdout",
     "output_type": "stream",
     "text": [
      "=== Sampling ===\n",
      "=== MAP ===\n"
     ]
    },
    {
     "data": {
      "text/html": [
       "<pre style=\"white-space:pre;overflow-x:auto;line-height:normal;font-family:Menlo,'DejaVu Sans Mono',consolas,'Courier New',monospace\"><span style=\"color: #800080; text-decoration-color: #800080; font-weight: bold\">tensor</span><span style=\"font-weight: bold\">([</span><span style=\"color: #008080; text-decoration-color: #008080; font-weight: bold\">0</span>, <span style=\"color: #008080; text-decoration-color: #008080; font-weight: bold\">0</span>, <span style=\"color: #008080; text-decoration-color: #008080; font-weight: bold\">0</span>, <span style=\"color: #008080; text-decoration-color: #008080; font-weight: bold\">1</span>, <span style=\"color: #008080; text-decoration-color: #008080; font-weight: bold\">1</span>, <span style=\"color: #008080; text-decoration-color: #008080; font-weight: bold\">1</span>, <span style=\"color: #008080; text-decoration-color: #008080; font-weight: bold\">1</span>, <span style=\"color: #008080; text-decoration-color: #008080; font-weight: bold\">1</span><span style=\"font-weight: bold\">])</span>\n",
       "</pre>\n"
      ],
      "text/plain": [
       "\u001b[1;35mtensor\u001b[0m\u001b[1m(\u001b[0m\u001b[1m[\u001b[0m\u001b[1;36m0\u001b[0m, \u001b[1;36m0\u001b[0m, \u001b[1;36m0\u001b[0m, \u001b[1;36m1\u001b[0m, \u001b[1;36m1\u001b[0m, \u001b[1;36m1\u001b[0m, \u001b[1;36m1\u001b[0m, \u001b[1;36m1\u001b[0m\u001b[1m]\u001b[0m\u001b[1m)\u001b[0m\n"
      ]
     },
     "metadata": {},
     "output_type": "display_data"
    }
   ],
   "source": [
    "\"\"\"\n",
    "    We marginalize all possible assignments in the model.\n",
    "    \n",
    "\"\"\"\n",
    "@config_enumerate\n",
    "def model(data, num_components=2):\n",
    "    weights = pyro.sample(\"weights\", dist.Dirichlet(0.5 * torch.ones(num_components)))\n",
    "    with pyro.plate(\"components\", num_components):\n",
    "        loc = pyro.sample(\"loc\", dist.Normal(5, 3))\n",
    "        scale = torch.tensor([1.0, 1.0])\n",
    "    with pyro.plate(\"data\", len(data)):\n",
    "        # for each datum (more precisely, `for i in range(len(data))` \n",
    "        #   since the datum is not observed yet)\n",
    "        assignment = pyro.sample(\"assignment\", dist.Categorical(weights))\n",
    "        obs_dist = dist.Normal(loc[assignment], scale[assignment])\n",
    "        obs = pyro.sample(\"obs\", obs_dist, obs=data)\n",
    "\n",
    "data = torch.tensor([0, 1, 2, 11, 12, 13, 14, 15])\n",
    "pyro.clear_param_store()\n",
    "\n",
    "guide = AutoDelta(poutine.block(model, hide=['assignment']))\n",
    "elbo = TraceEnum_ELBO(num_particles=1)\n",
    "opt = pyro.optim.AdamW({\"lr\": 0.1})\n",
    "svi = SVI(model, guide, opt, elbo)\n",
    "\n",
    "print(f\"ELBO before: {elbo.loss(model, guide, data)}\")\n",
    "\n",
    "# train\n",
    "losses = []\n",
    "for i in range(500):\n",
    "    loss = svi.step(data)\n",
    "    losses.append(loss)\n",
    "# plt.plot(losses)\n",
    "# plt.show()\n",
    "\n",
    "print(f\"ELBO after: {elbo.loss(model, guide, data)}\")\n",
    "\n",
    "rich.print(dict(pyro.get_param_store()))\n",
    "\n",
    "# render_model_plus(model, (data, ))\n",
    "# render_model_plus(guide, (data, ))\n",
    "\n",
    "print(\"=== Sampling ===\")\n",
    "model(data)\n",
    "\n",
    "print(\"=== MAP ===\")\n",
    "map_model = infer_discrete(model, first_available_dim=-2, temperature=0)\n",
    "rich.print(dict(poutine.trace(map_model).get_trace(data).nodes)['assignment']['value'])\n",
    "# pyro.render_model(map, (data, ), render_params=True)"
   ]
  },
  {
   "cell_type": "code",
   "execution_count": null,
   "metadata": {},
   "outputs": [],
   "source": [
    "\"\"\"\n",
    "    In the guide trained before, the assignment is not determined, since it will be marginalized in the model.\n",
    "\n",
    "    Two ways to train a guide to approximate the posterior:\n",
    "        - Fix the trained cluster centers, only train the assignment for each data.\n",
    "        - Use a guide with all possible assignments!\n",
    "\n",
    "\"\"\"\n",
    "@config_enumerate\n",
    "def full_guide(data):\n",
    "    # Global variables\n",
    "    # We can keep our learned values of global parameters:\n",
    "    # with poutine.block(hide_types=[\"param\"]):  \n",
    "    #     guide(data)\n",
    "    guide(data)\n",
    "\n",
    "    # Local variables\n",
    "    with pyro.plate('data', len(data)):\n",
    "        assignment_probs = pyro.param('assignment_probs', torch.ones(len(data), 2) / 2,\n",
    "                                      constraint=constraints.unit_interval)\n",
    "        pyro.sample('assignment', dist.Categorical(assignment_probs))\n",
    "\n",
    "pyro.clear_param_store()\n",
    "optim = pyro.optim.AdamW({'lr': 0.2, 'betas': [0.8, 0.99]})\n",
    "elbo = TraceEnum_ELBO(max_plate_nesting=1)\n",
    "svi = SVI(model, full_guide, optim, loss=elbo)\n",
    "\n",
    "losses = []\n",
    "for i in range(500):\n",
    "    loss = svi.step(data)\n",
    "    losses.append(loss)\n",
    "plt.plot(losses)\n",
    "\n",
    "rich.print(dict(pyro.get_param_store()))\n"
   ]
  },
  {
   "cell_type": "markdown",
   "metadata": {},
   "source": [
    "### Hidden Markov Model"
   ]
  },
  {
   "cell_type": "code",
   "execution_count": 13,
   "metadata": {},
   "outputs": [
    {
     "name": "stdout",
     "output_type": "stream",
     "text": [
      "None\n",
      "Dummy Step 1\n",
      "c torch.Size([256]) torch.Size([256])\n",
      "x torch.Size([256]) torch.Size([256])\n",
      "c torch.Size([256]) torch.Size([256])\n",
      "x torch.Size([256]) torch.Size([256])\n",
      "c torch.Size([2, 1]) torch.Size([2, 1, 1])\n",
      "x torch.Size([256]) torch.Size([256])\n",
      "Dummy Step 2\n",
      "c torch.Size([2, 1]) torch.Size([2, 1, 1])\n",
      "x torch.Size([256]) torch.Size([256])\n"
     ]
    },
    {
     "data": {
      "text/html": [
       "<pre style=\"white-space:pre;overflow-x:auto;line-height:normal;font-family:Menlo,'DejaVu Sans Mono',consolas,'Courier New',monospace\"><span style=\"font-weight: bold\">{</span>\n",
       "    <span style=\"color: #008000; text-decoration-color: #008000\">'state'</span>: <span style=\"color: #800080; text-decoration-color: #800080; font-weight: bold\">tensor</span><span style=\"font-weight: bold\">([</span><span style=\"color: #008080; text-decoration-color: #008080; font-weight: bold\">0.1388</span>, <span style=\"color: #008080; text-decoration-color: #008080; font-weight: bold\">0.8612</span><span style=\"font-weight: bold\">]</span>, <span style=\"color: #808000; text-decoration-color: #808000\">grad_fn</span>=<span style=\"font-weight: bold\">&lt;</span><span style=\"color: #ff00ff; text-decoration-color: #ff00ff; font-weight: bold\">DivBackward0</span><span style=\"font-weight: bold\">&gt;)</span>,\n",
       "    <span style=\"color: #008000; text-decoration-color: #008000\">'trans'</span>: <span style=\"color: #800080; text-decoration-color: #800080; font-weight: bold\">tensor</span><span style=\"font-weight: bold\">([[</span><span style=\"color: #008080; text-decoration-color: #008080; font-weight: bold\">0.8908</span>, <span style=\"color: #008080; text-decoration-color: #008080; font-weight: bold\">0.1092</span><span style=\"font-weight: bold\">]</span>,\n",
       "        <span style=\"font-weight: bold\">[</span><span style=\"color: #008080; text-decoration-color: #008080; font-weight: bold\">0.2324</span>, <span style=\"color: #008080; text-decoration-color: #008080; font-weight: bold\">0.7676</span><span style=\"font-weight: bold\">]]</span>, <span style=\"color: #808000; text-decoration-color: #808000\">grad_fn</span>=<span style=\"font-weight: bold\">&lt;</span><span style=\"color: #ff00ff; text-decoration-color: #ff00ff; font-weight: bold\">DivBackward0</span><span style=\"font-weight: bold\">&gt;)</span>,\n",
       "    <span style=\"color: #008000; text-decoration-color: #008000\">'emiss'</span>: <span style=\"color: #800080; text-decoration-color: #800080; font-weight: bold\">tensor</span><span style=\"font-weight: bold\">([[</span><span style=\"color: #008080; text-decoration-color: #008080; font-weight: bold\">0.2189</span>, <span style=\"color: #008080; text-decoration-color: #008080; font-weight: bold\">0.1434</span>, <span style=\"color: #008080; text-decoration-color: #008080; font-weight: bold\">0.6377</span><span style=\"font-weight: bold\">]</span>,\n",
       "        <span style=\"font-weight: bold\">[</span><span style=\"color: #008080; text-decoration-color: #008080; font-weight: bold\">0.7290</span>, <span style=\"color: #008080; text-decoration-color: #008080; font-weight: bold\">0.2238</span>, <span style=\"color: #008080; text-decoration-color: #008080; font-weight: bold\">0.0472</span><span style=\"font-weight: bold\">]]</span>, <span style=\"color: #808000; text-decoration-color: #808000\">grad_fn</span>=<span style=\"font-weight: bold\">&lt;</span><span style=\"color: #ff00ff; text-decoration-color: #ff00ff; font-weight: bold\">DivBackward0</span><span style=\"font-weight: bold\">&gt;)</span>\n",
       "<span style=\"font-weight: bold\">}</span>\n",
       "</pre>\n"
      ],
      "text/plain": [
       "\u001b[1m{\u001b[0m\n",
       "    \u001b[32m'state'\u001b[0m: \u001b[1;35mtensor\u001b[0m\u001b[1m(\u001b[0m\u001b[1m[\u001b[0m\u001b[1;36m0.1388\u001b[0m, \u001b[1;36m0.8612\u001b[0m\u001b[1m]\u001b[0m, \u001b[33mgrad_fn\u001b[0m=\u001b[1m<\u001b[0m\u001b[1;95mDivBackward0\u001b[0m\u001b[1m>\u001b[0m\u001b[1m)\u001b[0m,\n",
       "    \u001b[32m'trans'\u001b[0m: \u001b[1;35mtensor\u001b[0m\u001b[1m(\u001b[0m\u001b[1m[\u001b[0m\u001b[1m[\u001b[0m\u001b[1;36m0.8908\u001b[0m, \u001b[1;36m0.1092\u001b[0m\u001b[1m]\u001b[0m,\n",
       "        \u001b[1m[\u001b[0m\u001b[1;36m0.2324\u001b[0m, \u001b[1;36m0.7676\u001b[0m\u001b[1m]\u001b[0m\u001b[1m]\u001b[0m, \u001b[33mgrad_fn\u001b[0m=\u001b[1m<\u001b[0m\u001b[1;95mDivBackward0\u001b[0m\u001b[1m>\u001b[0m\u001b[1m)\u001b[0m,\n",
       "    \u001b[32m'emiss'\u001b[0m: \u001b[1;35mtensor\u001b[0m\u001b[1m(\u001b[0m\u001b[1m[\u001b[0m\u001b[1m[\u001b[0m\u001b[1;36m0.2189\u001b[0m, \u001b[1;36m0.1434\u001b[0m, \u001b[1;36m0.6377\u001b[0m\u001b[1m]\u001b[0m,\n",
       "        \u001b[1m[\u001b[0m\u001b[1;36m0.7290\u001b[0m, \u001b[1;36m0.2238\u001b[0m, \u001b[1;36m0.0472\u001b[0m\u001b[1m]\u001b[0m\u001b[1m]\u001b[0m, \u001b[33mgrad_fn\u001b[0m=\u001b[1m<\u001b[0m\u001b[1;95mDivBackward0\u001b[0m\u001b[1m>\u001b[0m\u001b[1m)\u001b[0m\n",
       "\u001b[1m}\u001b[0m\n"
      ]
     },
     "metadata": {},
     "output_type": "display_data"
    },
    {
     "data": {
      "text/html": [
       "<pre style=\"white-space:pre;overflow-x:auto;line-height:normal;font-family:Menlo,'DejaVu Sans Mono',consolas,'Courier New',monospace\"><span style=\"font-weight: bold\">{</span>\n",
       "    <span style=\"color: #008000; text-decoration-color: #008000\">'state'</span>: <span style=\"color: #800080; text-decoration-color: #800080; font-weight: bold\">tensor</span><span style=\"font-weight: bold\">([</span><span style=\"color: #008080; text-decoration-color: #008080; font-weight: bold\">0.9000</span>, <span style=\"color: #008080; text-decoration-color: #008080; font-weight: bold\">0.1000</span><span style=\"font-weight: bold\">])</span>,\n",
       "    <span style=\"color: #008000; text-decoration-color: #008000\">'trans'</span>: <span style=\"color: #800080; text-decoration-color: #800080; font-weight: bold\">tensor</span><span style=\"font-weight: bold\">([[</span><span style=\"color: #008080; text-decoration-color: #008080; font-weight: bold\">0.8000</span>, <span style=\"color: #008080; text-decoration-color: #008080; font-weight: bold\">0.2000</span><span style=\"font-weight: bold\">]</span>,\n",
       "        <span style=\"font-weight: bold\">[</span><span style=\"color: #008080; text-decoration-color: #008080; font-weight: bold\">0.3000</span>, <span style=\"color: #008080; text-decoration-color: #008080; font-weight: bold\">0.7000</span><span style=\"font-weight: bold\">]])</span>,\n",
       "    <span style=\"color: #008000; text-decoration-color: #008000\">'emiss'</span>: <span style=\"color: #800080; text-decoration-color: #800080; font-weight: bold\">tensor</span><span style=\"font-weight: bold\">([[</span><span style=\"color: #008080; text-decoration-color: #008080; font-weight: bold\">0.7000</span>, <span style=\"color: #008080; text-decoration-color: #008080; font-weight: bold\">0.2000</span>, <span style=\"color: #008080; text-decoration-color: #008080; font-weight: bold\">0.1000</span><span style=\"font-weight: bold\">]</span>,\n",
       "        <span style=\"font-weight: bold\">[</span><span style=\"color: #008080; text-decoration-color: #008080; font-weight: bold\">0.1000</span>, <span style=\"color: #008080; text-decoration-color: #008080; font-weight: bold\">0.2000</span>, <span style=\"color: #008080; text-decoration-color: #008080; font-weight: bold\">0.7000</span><span style=\"font-weight: bold\">]])</span>\n",
       "<span style=\"font-weight: bold\">}</span>\n",
       "</pre>\n"
      ],
      "text/plain": [
       "\u001b[1m{\u001b[0m\n",
       "    \u001b[32m'state'\u001b[0m: \u001b[1;35mtensor\u001b[0m\u001b[1m(\u001b[0m\u001b[1m[\u001b[0m\u001b[1;36m0.9000\u001b[0m, \u001b[1;36m0.1000\u001b[0m\u001b[1m]\u001b[0m\u001b[1m)\u001b[0m,\n",
       "    \u001b[32m'trans'\u001b[0m: \u001b[1;35mtensor\u001b[0m\u001b[1m(\u001b[0m\u001b[1m[\u001b[0m\u001b[1m[\u001b[0m\u001b[1;36m0.8000\u001b[0m, \u001b[1;36m0.2000\u001b[0m\u001b[1m]\u001b[0m,\n",
       "        \u001b[1m[\u001b[0m\u001b[1;36m0.3000\u001b[0m, \u001b[1;36m0.7000\u001b[0m\u001b[1m]\u001b[0m\u001b[1m]\u001b[0m\u001b[1m)\u001b[0m,\n",
       "    \u001b[32m'emiss'\u001b[0m: \u001b[1;35mtensor\u001b[0m\u001b[1m(\u001b[0m\u001b[1m[\u001b[0m\u001b[1m[\u001b[0m\u001b[1;36m0.7000\u001b[0m, \u001b[1;36m0.2000\u001b[0m, \u001b[1;36m0.1000\u001b[0m\u001b[1m]\u001b[0m,\n",
       "        \u001b[1m[\u001b[0m\u001b[1;36m0.1000\u001b[0m, \u001b[1;36m0.2000\u001b[0m, \u001b[1;36m0.7000\u001b[0m\u001b[1m]\u001b[0m\u001b[1m]\u001b[0m\u001b[1m)\u001b[0m\n",
       "\u001b[1m}\u001b[0m\n"
      ]
     },
     "metadata": {},
     "output_type": "display_data"
    },
    {
     "data": {
      "image/png": "[encoded data removed]",
      "text/plain": [
       "<Figure size 432x288 with 1 Axes>"
      ]
     },
     "metadata": {
      "needs_background": "light"
     },
     "output_type": "display_data"
    }
   ],
   "source": [
    "\"\"\"\n",
    "    Design a HMM1 to generate the data and train a HMM2 to fit the data.\n",
    "\n",
    "    - Everything is discrete, use `enumerate` for marginalization!\n",
    "    - The HMM2 will fit the data, but it does not mean it has the same parameter\n",
    "        as HMM1. The generated distributions will be close.\n",
    "\"\"\"\n",
    "COVID_PARAM = dict(\n",
    "    state = torch.tensor(\n",
    "        [0.9, 0.1]    # negative, positive\n",
    "    ),\n",
    "    trans = torch.tensor([\n",
    "        [0.8, 0.2],\n",
    "        [0.3, 0.7]    \n",
    "    ]),\n",
    "    emiss = torch.tensor([\n",
    "        [0.7, 0.2, 0.1],   # 家, 隔离点, 方仓\n",
    "        [0.1, 0.2, 0.7]\n",
    "    ])\n",
    ")\n",
    "\n",
    "def covid(x):\n",
    "    state, trans, emiss = COVID_PARAM['state'], COVID_PARAM['trans'], COVID_PARAM['emiss']\n",
    "    with pyro.plate(\"data\", len(x)):\n",
    "        c1 = pyro.sample(\"c1\", dist.Categorical(state))\n",
    "        c2 = pyro.sample(\"c2\", dist.Categorical(trans[c1]))\n",
    "        x1 = pyro.sample(\"x1\", dist.Categorical(emiss[c1]))\n",
    "        x2 = pyro.sample(\"x2\", dist.Categorical(emiss[c2]))\n",
    "        return torch.stack([x1, x2], dim=-1)\n",
    "\n",
    "@config_enumerate\n",
    "def model(data, debug):\n",
    "    state = pyro.param(\"state\", torch.rand(2), constraints.simplex)\n",
    "    trans = pyro.param(\"trans\", torch.rand(2, 2), constraints.simplex)\n",
    "    emiss = pyro.param(\"emiss\", torch.rand(2, 3), constraints.simplex)\n",
    "    # state = pyro.param('state', COVID_PARAM['state'].clone(), constraints.simplex)\n",
    "    # trans = pyro.param('trans', COVID_PARAM['trans'].clone(), constraints.simplex)\n",
    "    # emiss = pyro.param('emiss', COVID_PARAM['emiss'].clone(), constraints.simplex)\n",
    "    with pyro.plate(\"data\", size=len(data)):\n",
    "        c1 = pyro.sample(\"c1\", dist.Categorical(state))\n",
    "        c2 = pyro.sample(\"c2\", dist.Categorical(trans[c1]))\n",
    "        x1 = pyro.sample(\"x1\", dist.Categorical(emiss[c1]))\n",
    "        x2 = pyro.sample(\"x2\", dist.Categorical(emiss[c2]))\n",
    "        if debug:\n",
    "            print(\"c\", c1.shape, c2.shape)\n",
    "            print(\"x\", x1.shape, x2.shape)\n",
    "            return torch.stack([x1, x2], dim=-1)\n",
    "\n",
    "data = covid(list(range(256)))\n",
    "\n",
    "pyro.clear_param_store()\n",
    "\n",
    "cond_model = poutine.condition(model, data={\"x1\": data[:, 0], \"x2\": data[:, 1]})\n",
    "# render_model_plus(cond_model, (data, False))\n",
    "guide = AutoDelta(poutine.block(model, hide=['c1', 'c2', 'x1', 'x2']))\n",
    "# render_model_plus(guide, (data, False))\n",
    "\n",
    "elbo = TraceEnum_ELBO()\n",
    "opt = pyro.optim.AdamW({\"lr\": 0.01})\n",
    "svi = SVI(cond_model, guide, opt, elbo)\n",
    "\n",
    "# dummy step\n",
    "print(\"Dummy Step 1\")\n",
    "svi.step(data, True)\n",
    "print(\"Dummy Step 2\")\n",
    "svi.step(data, True)\n",
    "\n",
    "# training\n",
    "losses = []\n",
    "for i in range(600):\n",
    "    # print(f\"Step {i}\")\n",
    "    loss = svi.step(data, False)\n",
    "    losses.append(loss / len(data))\n",
    "plt.plot(losses)\n",
    "rich.print(dict(pyro.get_param_store()))\n",
    "rich.print(COVID_PARAM)\n",
    "\n",
    "out = list(map(tuple, model(data, True).tolist()))\n",
    "real = list(map(tuple, data.tolist()))\n",
    "\n",
    "print(\"=== Generated Distribution ===\")\n",
    "from collections import Counter\n",
    "print(Counter(out))\n",
    "print(Counter(real))"
   ]
  },
  {
   "cell_type": "code",
   "execution_count": null,
   "metadata": {},
   "outputs": [],
   "source": []
  }
 ],
 "metadata": {
  "interpreter": {
   "hash": "a15599cad0da4c5da1b184cfd1e470e7358b141a55537aea656512ec5dac1993"
  },
  "kernelspec": {
   "display_name": "Python 3.7.0 ('pyro')",
   "language": "python",
   "name": "python3"
  },
  "language_info": {
   "codemirror_mode": {
    "name": "ipython",
    "version": 3
   },
   "file_extension": ".py",
   "mimetype": "text/x-python",
   "name": "python",
   "nbconvert_exporter": "python",
   "pygments_lexer": "ipython3",
   "version": "3.7.13"
  },
  "orig_nbformat": 4
 },
 "nbformat": 4,
 "nbformat_minor": 2
}
