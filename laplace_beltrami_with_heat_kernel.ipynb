{
 "cells": [
  {
   "cell_type": "code",
   "execution_count": 2,
   "metadata": {},
   "outputs": [],
   "source": [
    "from matplotlib import pyplot as plt\n",
    "import numpy as np\n",
    "from scipy.sparse import coo_matrix\n",
    "from plotutil import PlotLayout"
   ]
  },
  {
   "cell_type": "code",
   "execution_count": 3,
   "metadata": {},
   "outputs": [
    {
     "data": {
      "text/plain": [
       "(-0.5, 19.5, 19.5, -0.5)"
      ]
     },
     "execution_count": 3,
     "metadata": {},
     "output_type": "execute_result"
    },
    {
     "data": {
      "image/png": "[encoded data removed]",
      "text/plain": [
       "<Figure size 432x288 with 1 Axes>"
      ]
     },
     "metadata": {
      "needs_background": "light"
     },
     "output_type": "display_data"
    }
   ],
   "source": [
    "a = 20\n",
    "x = np.zeros([a, a])\n",
    "x[3:9, 4:10] = 1\n",
    "x[15:18, 15:18] = 1\n",
    "x0 = x.reshape(-1)\n",
    "plt.imshow(x)\n",
    "plt.axis(\"off\")"
   ]
  },
  {
   "cell_type": "markdown",
   "metadata": {},
   "source": [
    "## Constructing Laplacian\n",
    "\n",
    "需要将 $20 \\times 20$ 网格里的每个点全部摊开，得到一个 $400 \\times 400$ 的拉普拉斯。\n",
    "\n",
    "$$\n",
    "L\\phi_i=\\lambda_i \\phi_i\n",
    "$$"
   ]
  },
  {
   "cell_type": "code",
   "execution_count": 4,
   "metadata": {},
   "outputs": [
    {
     "data": {
      "text/plain": [
       "(-0.5, 399.5, 399.5, -0.5)"
      ]
     },
     "execution_count": 4,
     "metadata": {},
     "output_type": "execute_result"
    },
    {
     "data": {
      "image/png": "[encoded data removed]",
      "text/plain": [
       "<Figure size 432x288 with 1 Axes>"
      ]
     },
     "metadata": {
      "needs_background": "light"
     },
     "output_type": "display_data"
    }
   ],
   "source": [
    "rows = []\n",
    "cols = []\n",
    "vals = []\n",
    "for i in range(a):\n",
    "    for j in range(a):\n",
    "        rows.append(i * a + j)\n",
    "        cols.append(i * a + j)\n",
    "        if i in (0, a - 1) and j in (0, a - 1):\n",
    "            # 顶点\n",
    "            vals.append(-2)\n",
    "        elif i in (0, a - 1) or j in (0, a - 1):\n",
    "            # 边\n",
    "            vals.append(-3)\n",
    "        else:\n",
    "            # 内部\n",
    "            vals.append(-4)\n",
    "        for dir in [(1, 0), (0, 1)]:\n",
    "            i2 = i + dir[0]\n",
    "            j2 = j + dir[1] \n",
    "            if i2 < a and j2 < a:\n",
    "                rows.append(i * a + j);    cols.append(i2 * a + j2);   vals.append(1)\n",
    "                rows.append(i2 * a + j2);  cols.append(i * a + j);     vals.append(1)\n",
    "\n",
    "L = coo_matrix((vals, (rows, cols)), shape=[a ** 2, a ** 2], dtype=np.float64)\n",
    "\n",
    "# eigval, eigvec = eigs(L, k=a ** 2 - 10)\n",
    "L = L.toarray()\n",
    "# 实对称矩阵的特征向量正交\n",
    "# np.linalg.eig 可能由于数值原因，算出不正交的结果，要用 eigh 替代\n",
    "eigval, eigvec = np.linalg.eigh(L)\n",
    "plt.imshow(L)\n",
    "plt.axis(\"off\")"
   ]
  },
  {
   "cell_type": "markdown",
   "metadata": {},
   "source": [
    "# Reconstructing initial state\n",
    "\n",
    "检查一下特征分解是否成功，看看能不能恢复初始状态。\n",
    "\n",
    "$$\n",
    "f_0 = \\sum_i \\alpha_i \\phi_i\n",
    "$$"
   ]
  },
  {
   "cell_type": "code",
   "execution_count": 5,
   "metadata": {},
   "outputs": [
    {
     "name": "stdout",
     "output_type": "stream",
     "text": [
      "5.422311905034505e-14\n"
     ]
    },
    {
     "data": {
      "text/plain": [
       "(-0.5, 19.5, 19.5, -0.5)"
      ]
     },
     "execution_count": 5,
     "metadata": {},
     "output_type": "execute_result"
    },
    {
     "data": {
      "image/png": "[encoded data removed]",
      "text/plain": [
       "<Figure size 432x288 with 1 Axes>"
      ]
     },
     "metadata": {
      "needs_background": "light"
     },
     "output_type": "display_data"
    }
   ],
   "source": [
    "alpha0 = x0 @ eigvec # 400 @ 400 x 6\n",
    "x1 = (alpha0 * eigvec).sum(-1)\n",
    "print((x0 - x1).sum())\n",
    "plt.imshow(np.abs(x1).reshape(a, a))\n",
    "plt.axis(\"off\")"
   ]
  },
  {
   "cell_type": "markdown",
   "metadata": {},
   "source": [
    "## Solving the Heat Equation\n",
    "\n",
    "Solving the PDE,\n",
    "\n",
    "$$\n",
    "\\frac{\\partial f(x, t)}{\\partial t} = \\frac{\\partial^2 f(x, t)}{\\partial x^2} \\\\\n",
    "f(x, 0) = f_0(x)\n",
    "$$\n",
    "\n",
    "这里正负号的不同会对后面的 $\\lambda$ 相关的正负号带来影响。\n",
    "\n",
    "we get:\n",
    "\n",
    "$$\n",
    "f(x, t) = \\sum_i \\alpha_i \\exp(\\lambda_i t) \\phi_i(x)\n",
    "$$"
   ]
  },
  {
   "cell_type": "code",
   "execution_count": 16,
   "metadata": {},
   "outputs": [
    {
     "name": "stdout",
     "output_type": "stream",
     "text": [
      "allocating 2 rows x 3 cols for 6 subplots.\n",
      "total heat at 0 is 45.00000000000015\n",
      "total heat at 1 is 44.99999999999985\n",
      "total heat at 2 is 44.99999999999975\n",
      "total heat at 3 is 44.99999999999965\n",
      "total heat at 4 is 44.99999999999955\n",
      "total heat at 5 is 44.999999999999446\n"
     ]
    },
    {
     "data": {
      "image/png": "[encoded data removed]",
      "text/plain": [
       "<Figure size 648x432 with 6 Axes>"
      ]
     },
     "metadata": {
      "needs_background": "light"
     },
     "output_type": "display_data"
    }
   ],
   "source": [
    "layout = PlotLayout(plt, 6, num_per_row=3, row_width=3, col_width=3)\n",
    "layout.prepare()\n",
    "\n",
    "for i in range(6):\n",
    "    layout.subplot(i)\n",
    "    xt = (alpha0 * np.exp(eigval * i * 1) * eigvec).sum(-1)\n",
    "    xt = xt.reshape(a, a)\n",
    "    plt.imshow(np.abs(xt))\n",
    "    plt.axis(\"off\")\n",
    "    plt.title(f\"$u(x,t)~~~t={i}$\")\n",
    "    print(\"total heat at\", i, \"is\", np.abs(xt).sum())"
   ]
  },
  {
   "cell_type": "markdown",
   "metadata": {},
   "source": [
    "## Caculating the Heat Kernel\n",
    "\n",
    "Heat kernel $k_t(x, y)$ 指的是到第 t 个时刻为止，累积一共有多少热量从 $y$ 传到 $x$。\n",
    "\n",
    "定义来自于：\n",
    "$$\n",
    "u(x, t) = \\int k_t(x, y) u_0(y) dy\n",
    "$$\n",
    "\n",
    "解出来是：\n",
    "\n",
    "$$\n",
    "k_t(x, y) = \\sum_i \\exp (\\lambda_i t) \\phi_i(x) \\phi_i(y)\n",
    "$$\n",
    "\n",
    "注意这里的 $x$、$y$ 不是横坐标纵坐标，而是代表区域内的两个点。为了方便，在此我们只取某个固定的 $y$ 来看该点对其他区域（所有 $x$ ）的影响。"
   ]
  },
  {
   "cell_type": "code",
   "execution_count": 15,
   "metadata": {},
   "outputs": [
    {
     "name": "stdout",
     "output_type": "stream",
     "text": [
      "allocating 2 rows x 3 cols for 6 subplots.\n"
     ]
    },
    {
     "data": {
      "image/png": "[encoded data removed]",
      "text/plain": [
       "<Figure size 648x432 with 6 Axes>"
      ]
     },
     "metadata": {
      "needs_background": "light"
     },
     "output_type": "display_data"
    }
   ],
   "source": [
    "layout = PlotLayout(plt, 6, num_per_row=3, row_width=3, col_width=3)\n",
    "layout.prepare()\n",
    "\n",
    "y = (4, 20)\n",
    "y = y[0] * a + y[1]\n",
    "for i in range(6):\n",
    "    layout.subplot(i)\n",
    "    # 每一列是一个特征向量\n",
    "    kernel = (\n",
    "        np.exp(eigval * i * 1).reshape(1, a ** 2)  # (1, D)\n",
    "        * eigvec   # (D, D)\n",
    "        * eigvec[y: y+1, :]   # (1, D) \n",
    "    ).sum(1)\n",
    "    plt.imshow(np.abs(kernel).reshape(a, a), cmap=\"YlOrRd\")\n",
    "    plt.title(f\"$k_t(x,y)~~~t={i}$\")\n",
    "    plt.axis(\"off\")"
   ]
  }
 ],
 "metadata": {
  "interpreter": {
   "hash": "43268c4202ce184b829f8f7524cf5790060b121f2f51ae68e5d499408bae96f5"
  },
  "kernelspec": {
   "display_name": "Python 3.7.0 ('mlvis')",
   "language": "python",
   "name": "python3"
  },
  "language_info": {
   "codemirror_mode": {
    "name": "ipython",
    "version": 3
   },
   "file_extension": ".py",
   "mimetype": "text/x-python",
   "name": "python",
   "nbconvert_exporter": "python",
   "pygments_lexer": "ipython3",
   "version": "3.7.0"
  },
  "orig_nbformat": 4
 },
 "nbformat": 4,
 "nbformat_minor": 2
}
