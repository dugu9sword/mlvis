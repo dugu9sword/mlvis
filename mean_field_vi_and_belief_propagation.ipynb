{
 "cells": [
  {
   "cell_type": "markdown",
   "metadata": {},
   "source": [
    "# Mean Field VI & Belief Propagation\n",
    "\n",
    "*Reference: Variational Inference for Structured NLP Models*\n",
    "\n",
    "See: http://nlp.cs.berkeley.edu/tutorials/variational-tutorial-slides.pdf"
   ]
  },
  {
   "cell_type": "code",
   "execution_count": 13,
   "metadata": {},
   "outputs": [],
   "source": [
    "import numpy as np\n",
    "np.set_printoptions(precision=2)\n",
    "\n",
    "def normalize(x):\n",
    "    return x / x.sum()"
   ]
  },
  {
   "cell_type": "markdown",
   "metadata": {},
   "source": [
    "## Mean Field Variational Inference\n",
    "\n",
    "*Variational Inference for Structured NLP Models, Page. 60~68*\n",
    "\n",
    "This is easy."
   ]
  },
  {
   "cell_type": "code",
   "execution_count": 88,
   "metadata": {},
   "outputs": [],
   "source": [
    "p_1 = np.array([0.7, 0.3])\n",
    "p_2 = np.array([0.4, 0.6])\n",
    "p_12 = np.array(\n",
    "    [[0.2, 0.5],\n",
    "     [0.2, 0.1]]\n",
    ")\n",
    "\n",
    "φ_1 = np.array([1.0, 1.0])\n",
    "φ_2 = np.array([1.0, 1.0])\n",
    "φ_12 = np.array(\n",
    "    [[2.0, 5.0],\n",
    "     [2.0, 1.0]]\n",
    ")"
   ]
  },
  {
   "cell_type": "code",
   "execution_count": 94,
   "metadata": {},
   "outputs": [
    {
     "name": "stdout",
     "output_type": "stream",
     "text": [
      "iter 0 [0.69 0.31] [0.4 0.6]\n",
      "iter 1 [0.73 0.27] [0.38 0.62]\n",
      "iter 2 [0.73 0.27] [0.38 0.62]\n",
      "iter 3 [0.73 0.27] [0.38 0.62]\n",
      "iter 4 [0.73 0.27] [0.38 0.62]\n",
      "[[0.28 0.45]\n",
      " [0.1  0.17]]\n"
     ]
    }
   ],
   "source": [
    "q_1, q_2 = φ_1, φ_2\n",
    "q_1, q_2 = normalize(q_1), normalize(q_2)\n",
    "    \n",
    "for iteration in range(5):\n",
    "    for i in [0, 1]:        \n",
    "        q_1[i] = np.exp(q_2[0] * np.log(φ_12[i][0]) + q_2[1] * np.log(φ_12[i][1]))\n",
    "    q_1 = normalize(q_1)\n",
    "\n",
    "    for i in [0, 1]:\n",
    "        q_2[i] = np.exp(q_1[0] * np.log(φ_12[0][i]) + q_1[1] * np.log(φ_12[1][i]))\n",
    "    q_2 = normalize(q_2)\n",
    "\n",
    "    print(\"iter\", iteration, q_1, q_2)\n",
    "\n",
    "q_12 = q_1.reshape(2, 1) @ q_2.reshape(1, 2)\n",
    "\n",
    "print(q_12)"
   ]
  },
  {
   "cell_type": "markdown",
   "metadata": {},
   "source": [
    "## Belief Propagation\n",
    "\n",
    "*Variational Inference for Structured NLP Models, Page. 127~136*\n",
    "\n",
    "\n",
    "Since a factor connects only two variables in this case, we use `variable-to-variable` messages instead of `variable-to-factor` and `factor-to-variable` messages.\n",
    "\n",
    "- $ \\mathrm{msg}_{A \\rightarrow B} $ is a vector with dimension $|B|$, denote the message passed from A to B. \n",
    "- $ \\phi_{A, B} $ denote the given potentials. \n",
    "\n",
    "$$\n",
    "\\mathrm{msg}_{A \\rightarrow B} = \\phi_{A, B}^\\mathrm{T} \\cdot \\prod_{X \\neq B} \\mathrm{msg}_{X \\rightarrow A}\n",
    "$$\n",
    "\n",
    "### Inference\n",
    "\n",
    "- The messages are initialized as all `1`s. \n",
    "- Iteratively update messages.\n",
    "\n",
    "\n",
    "The approximated probability $q$ is:\n",
    "\n",
    "$$\n",
    "q(A=a) = \\frac\n",
    "                { (\\prod_{X} \\mathrm{msg}_{X \\rightarrow A})[a] }\n",
    "                { \\sum_a (\\prod_{X} \\mathrm{msg}_{X \\rightarrow A})[a] }\n",
    "$$\n",
    "\n",
    "\n",
    "Note that although we can calculate the probabilities $q$,\n",
    "- In BP, we iteratively **update messages instead of probabilities**.\n",
    "- In MFVI, we update $q$ iteratively."
   ]
  },
  {
   "cell_type": "code",
   "execution_count": 2,
   "metadata": {},
   "outputs": [],
   "source": [
    "φ_0 = np.array([1.0, 1.0])\n",
    "φ_1 = np.array([1.0, 1.0])\n",
    "φ_2 = np.array([1.0, 1.0])\n",
    "φ_3 = np.array([1.0, 1.0])\n",
    "φ_01 = np.array(\n",
    "    [[7, 1],\n",
    "     [1, 3]]\n",
    ")\n",
    "φ_12 = np.array(\n",
    "    [[1, 1],\n",
    "     [1, 8]]\n",
    ")\n",
    "φ_23 = np.array(\n",
    "    [[1, 9],\n",
    "     [8, 1]]\n",
    ")\n",
    "# this line is different from the tutorial\n",
    "# maybe something is wrong with that tutorial\n",
    "φ_30 = np.array(\n",
    "    [[6, 1],\n",
    "     [2, 3]]\n",
    ").T"
   ]
  },
  {
   "cell_type": "code",
   "execution_count": 127,
   "metadata": {},
   "outputs": [
    {
     "name": "stdout",
     "output_type": "stream",
     "text": [
      "order in the tutorial\n",
      "[array([0.67, 0.33]), array([0.67, 0.33]), array([0.5, 0.5]), array([0.5, 0.5])]\n",
      "[array([0.67, 0.33]), array([0.31, 0.69]), array([0.23, 0.77]), array([0.5, 0.5])]\n",
      "[array([0.74, 0.26]), array([0.31, 0.69]), array([0.23, 0.77]), array([0.74, 0.26])]\n",
      "[array([0.74, 0.26]), array([0.31, 0.69]), array([0.13, 0.87]), array([0.86, 0.14])]\n",
      "[array([0.53, 0.47]), array([0.35, 0.65]), array([0.13, 0.87]), array([0.86, 0.14])]\n",
      "[array([0.53, 0.47]), array([0.3, 0.7]), array([0.14, 0.86]), array([0.86, 0.14])]\n",
      "[array([0.61, 0.39]), array([0.3, 0.7]), array([0.14, 0.86]), array([0.8, 0.2])]\n",
      "[array([0.61, 0.39]), array([0.3, 0.7]), array([0.19, 0.81]), array([0.79, 0.21])]\n",
      "[array([0.58, 0.42]), array([0.34, 0.66]), array([0.19, 0.81]), array([0.79, 0.21])]\n",
      "[array([0.58, 0.42]), array([0.37, 0.63]), array([0.2, 0.8]), array([0.79, 0.21])]\n",
      "[array([0.57, 0.43]), array([0.37, 0.63]), array([0.2, 0.8]), array([0.78, 0.22])]\n",
      "[array([0.57, 0.43]), array([0.37, 0.63]), array([0.21, 0.79]), array([0.77, 0.23])]\n",
      "random order I, good\n",
      "[array([0.62, 0.38]), array([0.4, 0.6]), array([0.2, 0.8]), array([0.85, 0.15])]\n",
      "[array([0.6, 0.4]), array([0.41, 0.59]), array([0.19, 0.81]), array([0.78, 0.22])]\n",
      "[array([0.6, 0.4]), array([0.36, 0.64]), array([0.2, 0.8]), array([0.78, 0.22])]\n",
      "random order II, bad\n",
      "[array([0.58, 0.42]), array([0.18, 0.82]), array([0.18, 0.82]), array([0.67, 0.33])]\n",
      "[array([0.67, 0.33]), array([0.18, 0.82]), array([0.13, 0.87]), array([0.85, 0.15])]\n",
      "[array([0.62, 0.38]), array([0.4, 0.6]), array([0.13, 0.87]), array([0.85, 0.15])]\n"
     ]
    }
   ],
   "source": [
    "class MP:\n",
    "    def __init__(self, num_nodes=4) -> None:\n",
    "        self._num_nodes = num_nodes\n",
    "        self._msg = [[np.array([1.0, 1.0])] * num_nodes for _ in range(num_nodes)]\n",
    "        self._φs = [[None] * num_nodes for _ in range(num_nodes)]\n",
    "        self._φs[0][1] = φ_01\n",
    "        self._φs[1][2] = φ_12\n",
    "        self._φs[2][3] = φ_23\n",
    "        self._φs[3][0] = φ_30\n",
    "\n",
    "    def msg(self, idx, ex=None):\n",
    "        s = 1.0\n",
    "        for i in range(self._num_nodes):\n",
    "            if ex == i:\n",
    "                continue\n",
    "            s *= self._msg[i][idx]\n",
    "        return s\n",
    "    \n",
    "    def step(self, src, tgt):\n",
    "        m_src = mp.msg(src, ex=tgt)    \n",
    "        m_tgt = mp.msg(tgt, ex=src)\n",
    "        mp._msg[src][tgt] = self._φs[src][tgt].T @ m_src\n",
    "        mp._msg[tgt][src] = self._φs[src][tgt] @ m_tgt\n",
    "        # same effect, but can prevent number overflow\n",
    "        # mp._msg[src][tgt] = normalize(self._φs[src][tgt].T @ m_src)\n",
    "        # mp._msg[tgt][src] = normalize(self._φs[src][tgt] @ m_tgt)\n",
    "        \n",
    "    def prob(self):\n",
    "        ret = []\n",
    "        for idx in range(self._num_nodes):\n",
    "            s = self.msg(idx)\n",
    "            ret.append(normalize(s))\n",
    "        return ret\n",
    "\n",
    "print(\"order in the tutorial\")\n",
    "mp = MP()\n",
    "for _ in range(3):\n",
    "    mp.step(0, 1); print(mp.prob())\n",
    "    mp.step(1, 2); print(mp.prob())\n",
    "    mp.step(3, 0); print(mp.prob())\n",
    "    mp.step(2, 3); print(mp.prob())\n",
    "    # print(\"msg\", np.asarray(mp._msg))\n",
    "    \n",
    "print(\"random order I, good\")\n",
    "mp = MP()\n",
    "for _ in range(3):\n",
    "    orders = [(0, 1), (1, 2), (2, 3), (3, 0)]\n",
    "    import random\n",
    "    random.shuffle(orders)\n",
    "    for i, j in orders:\n",
    "        mp.step(i, j); \n",
    "    print(mp.prob())\n",
    "\n",
    "print(\"random order II, bad\")\n",
    "mp = MP()\n",
    "for _ in range(3):\n",
    "    orders = [(0, 1), (1, 2), (2, 3), (3, 0)]\n",
    "    import random\n",
    "    for _ in range(4):\n",
    "        i, j =random.choice(orders)\n",
    "        mp.step(i, j)\n",
    "    print(mp.prob())\n",
    "# print(mp._msg)"
   ]
  },
  {
   "cell_type": "code",
   "execution_count": 4,
   "metadata": {},
   "outputs": [
    {
     "name": "stdout",
     "output_type": "stream",
     "text": [
      "Collecting daft\n",
      "  Downloading daft-0.1.2-py3-none-any.whl (11 kB)\n",
      "Requirement already satisfied: numpy in /Users/admin/opt/miniconda3/envs/mlvis/lib/python3.7/site-packages (from daft) (1.21.3)\n",
      "Requirement already satisfied: setuptools in /Users/admin/opt/miniconda3/envs/mlvis/lib/python3.7/site-packages (from daft) (58.0.4)\n",
      "Requirement already satisfied: matplotlib in /Users/admin/opt/miniconda3/envs/mlvis/lib/python3.7/site-packages (from daft) (3.4.3)\n",
      "Requirement already satisfied: pillow>=6.2.0 in /Users/admin/opt/miniconda3/envs/mlvis/lib/python3.7/site-packages (from matplotlib->daft) (8.4.0)\n",
      "Requirement already satisfied: cycler>=0.10 in /Users/admin/opt/miniconda3/envs/mlvis/lib/python3.7/site-packages (from matplotlib->daft) (0.10.0)\n",
      "Requirement already satisfied: kiwisolver>=1.0.1 in /Users/admin/opt/miniconda3/envs/mlvis/lib/python3.7/site-packages (from matplotlib->daft) (1.3.2)\n",
      "Requirement already satisfied: python-dateutil>=2.7 in /Users/admin/opt/miniconda3/envs/mlvis/lib/python3.7/site-packages (from matplotlib->daft) (2.8.2)\n",
      "Requirement already satisfied: pyparsing>=2.2.1 in /Users/admin/opt/miniconda3/envs/mlvis/lib/python3.7/site-packages (from matplotlib->daft) (2.4.7)\n",
      "Requirement already satisfied: six in /Users/admin/opt/miniconda3/envs/mlvis/lib/python3.7/site-packages (from cycler>=0.10->matplotlib->daft) (1.16.0)\n",
      "Installing collected packages: daft\n",
      "Successfully installed daft-0.1.2\n"
     ]
    }
   ],
   "source": [
    "# !pip install pgmpy\n",
    "# !pip install daft"
   ]
  },
  {
   "cell_type": "code",
   "execution_count": 20,
   "metadata": {},
   "outputs": [],
   "source": [
    "from pgmpy.models import BayesianNetwork, MarkovNetwork\n",
    "from pgmpy.inference import VariableElimination\n",
    "from pgmpy.factors.discrete import TabularCPD\n",
    "from pgmpy.inference import CausalInference"
   ]
  },
  {
   "cell_type": "code",
   "execution_count": 35,
   "metadata": {},
   "outputs": [
    {
     "data": {
      "text/plain": [
       "<Axes:>"
      ]
     },
     "execution_count": 35,
     "metadata": {},
     "output_type": "execute_result"
    },
    {
     "data": {
      "image/png": "[encoded data removed]",
      "text/plain": [
       "<Figure size 153.071x96.378 with 1 Axes>"
      ]
     },
     "metadata": {},
     "output_type": "display_data"
    }
   ],
   "source": [
    "simp_model = BayesianNetwork([('S', 'T'), ('T', 'C'), ('S', 'C')])\n",
    "simp_model.to_daft(node_pos={'T': (0, 0), 'C': (2, 0), 'S': (1, 1)}).render()"
   ]
  },
  {
   "cell_type": "code",
   "execution_count": 38,
   "metadata": {},
   "outputs": [
    {
     "name": "stdout",
     "output_type": "stream",
     "text": [
      "+------+------+------+------+------+\n",
      "| S    | S(m) | S(m) | S(f) | S(f) |\n",
      "+------+------+------+------+------+\n",
      "| T    | T(0) | T(1) | T(0) | T(1) |\n",
      "+------+------+------+------+------+\n",
      "| C(0) | 0.3  | 0.4  | 0.7  | 0.8  |\n",
      "+------+------+------+------+------+\n",
      "| C(1) | 0.7  | 0.6  | 0.3  | 0.2  |\n",
      "+------+------+------+------+------+\n"
     ]
    },
    {
     "name": "stderr",
     "output_type": "stream",
     "text": [
      "Finding Elimination Order: : 100%|██████████| 1/1 [00:00<00:00, 900.84it/s]\n",
      "Eliminating: T: 100%|██████████| 1/1 [00:00<00:00, 511.50it/s]\n"
     ]
    },
    {
     "name": "stdout",
     "output_type": "stream",
     "text": [
      "+------+----------+\n",
      "| C    |   phi(C) |\n",
      "+======+==========+\n",
      "| C(0) |   0.7250 |\n",
      "+------+----------+\n",
      "| C(1) |   0.2750 |\n",
      "+------+----------+\n"
     ]
    },
    {
     "name": "stderr",
     "output_type": "stream",
     "text": [
      "Finding Elimination Order: : 100%|██████████| 1/1 [00:00<00:00, 1095.12it/s]\n",
      "Eliminating: T: 100%|██████████| 1/1 [00:00<00:00, 742.88it/s]"
     ]
    },
    {
     "name": "stdout",
     "output_type": "stream",
     "text": [
      "+------+----------+\n",
      "| C    |   phi(C) |\n",
      "+======+==========+\n",
      "| C(0) |   0.3750 |\n",
      "+------+----------+\n",
      "| C(1) |   0.6250 |\n",
      "+------+----------+\n"
     ]
    },
    {
     "name": "stderr",
     "output_type": "stream",
     "text": [
      "\n"
     ]
    }
   ],
   "source": [
    "cpd_s = TabularCPD(variable='S',\n",
    "                   variable_card=2,\n",
    "                   values=[[0.5],\n",
    "                           [0.5]],\n",
    "                   state_names={'S': ['m', 'f']})\n",
    "cpd_t = TabularCPD(variable='T',\n",
    "                   variable_card=2,\n",
    "                   values=[[0.25, 0.75],\n",
    "                           [0.75, 0.25]],\n",
    "                   evidence=['S'],\n",
    "                   evidence_card=[2],\n",
    "                   state_names={'S':['m', 'f'], 'T':[0, 1]})\n",
    "cpd_c = TabularCPD(variable='C',\n",
    "                   variable_card=2,\n",
    "                   values=[[0.3, 0.4, 0.7, 0.8],\n",
    "                           [0.7, 0.6, 0.3, 0.2]],\n",
    "                   evidence=['S', 'T'],\n",
    "                   evidence_card=[2, 2],\n",
    "                   state_names={'S': ['m', 'f'], 'T': [0, 1], 'C': [0, 1]})\n",
    "\n",
    "simp_model.add_cpds(cpd_s, cpd_t, cpd_c)\n",
    "\n",
    "print(cpd_c)\n",
    "\n",
    "# Non adjusted inference\n",
    "infer_non_adjust = VariableElimination(simp_model)\n",
    "\n",
    "print(infer_non_adjust.query(variables=['C'], evidence={'S': 1}))\n",
    "print(infer_non_adjust.query(variables=['C'], evidence={'S': 0}))"
   ]
  },
  {
   "cell_type": "code",
   "execution_count": 84,
   "metadata": {},
   "outputs": [
    {
     "data": {
      "text/plain": [
       "['C', 'S', 'T']"
      ]
     },
     "execution_count": 84,
     "metadata": {},
     "output_type": "execute_result"
    }
   ],
   "source": [
    "cpd_c.variables"
   ]
  },
  {
   "cell_type": "code",
   "execution_count": 81,
   "metadata": {},
   "outputs": [
    {
     "data": {
      "text/plain": [
       "array([0.725, 0.275])"
      ]
     },
     "execution_count": 81,
     "metadata": {},
     "output_type": "execute_result"
    }
   ],
   "source": [
    "np.set_printoptions(precision=3)\n",
    "\n",
    "normalize(cpd_c.values[:, 0] @ cpd_t.values[0])\n",
    "normalize(cpd_c.values[:, 1] @ cpd_t.values[1])"
   ]
  }
 ],
 "metadata": {
  "interpreter": {
   "hash": "aee8b7b246df8f9039afb4144a1f6fd8d2ca17a180786b69acc140d282b71a49"
  },
  "kernelspec": {
   "display_name": "Python 3.9.6 64-bit",
   "language": "python",
   "name": "python3"
  },
  "language_info": {
   "codemirror_mode": {
    "name": "ipython",
    "version": 3
   },
   "file_extension": ".py",
   "mimetype": "text/x-python",
   "name": "python",
   "nbconvert_exporter": "python",
   "pygments_lexer": "ipython3",
   "version": "3.7.0"
  },
  "orig_nbformat": 4
 },
 "nbformat": 4,
 "nbformat_minor": 2
}
