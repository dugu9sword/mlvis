{
 "cells": [
  {
   "cell_type": "code",
   "execution_count": 6,
   "metadata": {},
   "outputs": [],
   "source": [
    "import numpy as np\n",
    "from scipy.optimize import minimize\n",
    "from functools import partial\n",
    "from matplotlib import pyplot as plt\n",
    "from tabulate import tabulate"
   ]
  },
  {
   "cell_type": "code",
   "execution_count": 7,
   "metadata": {},
   "outputs": [],
   "source": [
    "def partial_func(func, mode, partial_x, given_x={}):\n",
    "    x = []\n",
    "    total_x = len(partial_x) + len(given_x)\n",
    "\n",
    "    pid = 0\n",
    "    for i in range(total_x):\n",
    "        if i in given_x:\n",
    "            x.append(given_x[i])\n",
    "        else:\n",
    "            x.append(partial_x[pid])\n",
    "            pid += 1            \n",
    "    \n",
    "    value, grad = func(x)\n",
    "    \n",
    "    if mode == 'backward':\n",
    "        partial_grad = []\n",
    "        for i in range(total_x):\n",
    "            if i not in given_x:\n",
    "                partial_grad.append(grad[i])\n",
    "        return np.array(partial_grad)\n",
    "    elif mode == 'forward':\n",
    "        return value"
   ]
  },
  {
   "cell_type": "code",
   "execution_count": 8,
   "metadata": {},
   "outputs": [],
   "source": [
    "def f1(vec):\n",
    "    x, y = vec\n",
    "    value = x ** 2 - 2 * (y - 4) * x + 2 * y ** 2\n",
    "    grad = (2 * x - 2 * (y - 4), - 2 * x + 4 * y)\n",
    "    return value, grad\n",
    "\n",
    "def f2(vec):\n",
    "    x, y = vec\n",
    "    value = 3 * x ** 2 - 2 * (y + 4) * x + 1 * y ** 2\n",
    "    grad = (6 * x - 2 * (y + 4), - 2 * x + 2 * y)\n",
    "    return value, grad\n",
    "\n",
    "def fall(vec):\n",
    "    x1, x2, y = vec\n",
    "    v1, g1 = f1([x1, y])\n",
    "    v2, g2 = f2([x2, y])\n",
    "    v = v1 + v2\n",
    "    g = (g1[0], g2[0], g1[1] + g2[1])\n",
    "    return v, g\n",
    "\n",
    "def f1_dual(vec):\n",
    "    x, y, lmb = vec\n",
    "    v, g = f1([x, y])\n",
    "    v = v + lmb * y\n",
    "    g = (g[0], g[1] + lmb, y)\n",
    "    return v, g\n",
    "\n",
    "def f2_dual(vec):\n",
    "    x, y, lmb = vec\n",
    "    v, g = f2([x, y])\n",
    "    v = v - lmb * y\n",
    "    g = (g[0], g[1] - lmb, -y)\n",
    "    return v, g\n"
   ]
  },
  {
   "cell_type": "code",
   "execution_count": 9,
   "metadata": {},
   "outputs": [
    {
     "data": {
      "image/png": "[encoded data removed]",
      "text/plain": [
       "<Figure size 432x288 with 1 Axes>"
      ]
     },
     "metadata": {
      "needs_background": "light"
     },
     "output_type": "display_data"
    }
   ],
   "source": [
    "ys = np.arange(-4, 4, 0.1)\n",
    "for f in [f1, f2, fall]:\n",
    "    fs = []\n",
    "    for y in ys:\n",
    "        if f in [f1, f2]:\n",
    "            kwargs = dict(\n",
    "                x0=np.array([0.0]),  \n",
    "                args=({1: y}, ), \n",
    "                bounds=((-10.0, 10.0), ),\n",
    "            )\n",
    "        else:\n",
    "            kwargs = dict(\n",
    "                x0=np.array([0.0, 0.0]),\n",
    "                args=({2: y}, ),   \n",
    "                bounds=((-10.0, 10.0), (-10.0, 10.0))             \n",
    "            )\n",
    "        res = minimize(\n",
    "            fun=partial(partial_func, f, 'forward'), \n",
    "            jac=partial(partial_func, f, 'backward'), \n",
    "            **kwargs\n",
    "        )\n",
    "        fs.append(res.fun)\n",
    "    if f in [f1, f2]:\n",
    "        plt.plot(ys, fs, '-.')\n",
    "    else:\n",
    "        plt.plot(ys, fs)"
   ]
  },
  {
   "cell_type": "markdown",
   "metadata": {},
   "source": [
    "We write the dual function and set its derivative to $0$:\n",
    "\n",
    "$$\n",
    "\\begin{aligned}\n",
    "f_1^{dual} = & f_1(x_1, y_1) + \\lambda y_1\\\\\n",
    "\\frac{\\partial f_1^{dual}}{\\partial y_1} = & 0\\\\\n",
    "\\end{aligned}\n",
    "$$\n",
    "\n",
    "Then we get $y_1^*$, the point where the derivative cross the axis. \n",
    "\n",
    "A key point: since $y_1^*$ is the minimum, **the derivative function cross the axis from bottom-left to top-right (the slope is positive)**.\n",
    "\n",
    "$$\n",
    "y_1^* = \\argmin_{y_1} f_1^{dual}\n",
    "$$\n",
    "\n",
    "If we perform an update on $\\lambda$,\n",
    "$$\n",
    "\\lambda := \\lambda + \\alpha (y_1^* - y_2^*),\\mathrm{~}\\alpha \\gt 0\n",
    "$$\n",
    "\n",
    "We write the new dual function and set the new derivative to $0$:\n",
    "$$\n",
    "f_1^{new~dual} = f_1^{dual} + \\alpha (y_1^* - y_2^*) y_1 \\\\\n",
    "\\frac{\\partial f_1^{dual}}{\\partial y_1} + \\alpha (y_1^* - y_2^*) = 0 \\\\\n",
    "\\frac{\\partial f_1^{dual}}{\\partial y_1} = - \\alpha (y_1^* - y_2^*)  \\\\\n",
    "$$\n",
    "\n",
    "```\n",
    "           ^              \n",
    "           |           / df/dy\n",
    "           |          /\n",
    "           |         /\n",
    "--------------------y1*------> y\n",
    "           |    :  /\n",
    "           |    : /\n",
    "-(y1*-y2*) |...../\n",
    "           |    /\n",
    "           |   /\n",
    "```\n",
    "if $y_1^* \\gt y_2^*$, then the new $y_1^*$ will be smaller than $y_1^*$."
   ]
  },
  {
   "cell_type": "code",
   "execution_count": 18,
   "metadata": {},
   "outputs": [
    {
     "name": "stdout",
     "output_type": "stream",
     "text": [
      "     lmb        y1          y2     dual1      dual2       dual\n",
      "--------  --------  ----------  --------  ---------  ---------\n",
      " 7.6      -4         4          -72       -45.3333   -117.333\n",
      " 5.2      -4         4          -62.4     -35.7333    -98.1333\n",
      " 2.8      -4         4          -52.8     -26.1333    -78.9333\n",
      " 0.4      -4         4          -43.2     -16.5333    -59.7333\n",
      "-1.49     -4         2.3        -33.6      -8.86      -42.46\n",
      "-2.73125  -3.255     0.8825     -26.595    -5.85254   -32.4476\n",
      "-3.50703  -2.63438  -0.0484375  -22.9399   -5.3349    -28.2748\n",
      "-3.99189  -2.24648  -0.630273   -21.0467   -5.59816   -26.6449\n",
      "-4.29493  -2.00405  -0.993921   -20.0162   -5.99192   -26.0081\n",
      "-4.48433  -1.85253  -1.2212     -19.4319   -6.32755   -25.7594\n",
      "-4.60271  -1.75783  -1.36325    -19.09     -6.5723    -25.6623\n",
      "-4.67669  -1.69865  -1.45203    -18.8854   -6.73893   -25.6243\n",
      "-4.72293  -1.66165  -1.50752    -18.7611   -6.84841   -25.6095\n",
      "-4.75183  -1.63853  -1.5422     -18.6848   -6.91892   -25.6037\n",
      "-4.7699   -1.62408  -1.56387    -18.6376   -6.9638    -25.6015\n",
      "-4.78118  -1.61505  -1.57742    -18.6084   -6.99217   -25.6006\n",
      "-4.78824  -1.60941  -1.58589    -18.5902   -7.01003   -25.6002\n",
      "-4.79265  -1.60588  -1.59118    -18.5788   -7.02124   -25.6001\n",
      "-4.79541  -1.60367  -1.59449    -18.5718   -7.02826   -25.6\n",
      "-4.79713  -1.6023   -1.59655    -18.5674   -7.03266   -25.6\n"
     ]
    }
   ],
   "source": [
    "y1, y2 = None, None\n",
    "lmb = 10.0\n",
    "table = []\n",
    "\n",
    "for i in range(20):\n",
    "    res1_dual, res2_dual = None, None\n",
    "    for y, f in ((y1, f1_dual), (y2, f2_dual)):\n",
    "        kwargs = dict(\n",
    "            x0=np.array([0.0, 0.0]),  \n",
    "            args=({2: lmb}, ), \n",
    "            bounds=((-10.0, 10.0), (-4.0, 4.0),),\n",
    "        )\n",
    "        res = minimize(\n",
    "            fun=partial(partial_func, f, 'forward'), \n",
    "            jac=partial(partial_func, f, 'backward'), \n",
    "            **kwargs\n",
    "        )\n",
    "        if f == f1_dual:\n",
    "            res1_dual = res.fun\n",
    "            x1, y1 = res.x[0], res.x[1]\n",
    "        elif f == f2_dual:\n",
    "            res2_dual = res.fun\n",
    "            x2, y2 = res.x[0], res.x[1]\n",
    "    lmb += 0.3 * (y1 - y2)\n",
    "    dual = res1_dual + res2_dual\n",
    "    table.append((lmb, y1, y2, res1_dual, res2_dual, dual))\n",
    "print(tabulate(table, headers=['lmb', 'y1', 'y2', 'dual1', 'dual2', 'dual']))"
   ]
  }
 ],
 "metadata": {
  "interpreter": {
   "hash": "43268c4202ce184b829f8f7524cf5790060b121f2f51ae68e5d499408bae96f5"
  },
  "kernelspec": {
   "display_name": "Python 3.7.0 64-bit ('mlvis': conda)",
   "language": "python",
   "name": "python3"
  },
  "language_info": {
   "codemirror_mode": {
    "name": "ipython",
    "version": 3
   },
   "file_extension": ".py",
   "mimetype": "text/x-python",
   "name": "python",
   "nbconvert_exporter": "python",
   "pygments_lexer": "ipython3",
   "version": "3.7.0"
  },
  "orig_nbformat": 4
 },
 "nbformat": 4,
 "nbformat_minor": 2
}
